{
 "cells": [
  {
   "cell_type": "markdown",
   "metadata": {
    "toc": true
   },
   "source": [
    "<h1>Table of Contents<span class=\"tocSkip\"></span></h1>\n",
    "<div class=\"toc\" style=\"margin-top: 1em;\"><ul class=\"toc-item\"></ul></div>"
   ]
  },
  {
   "cell_type": "code",
   "execution_count": 1,
   "metadata": {
    "ExecuteTime": {
     "end_time": "2018-03-09T03:38:41.663989Z",
     "start_time": "2018-03-09T03:38:41.634848Z"
    }
   },
   "outputs": [],
   "source": [
    "#Spatiotemporal range and wavelengths/band of interest are defined\n",
    "\n",
    "#Temporal range is defined\n",
    "start_of_epoch = '2016-12-01'\n",
    "end_of_epoch =  '2017-01-30'\n",
    "\n",
    "#Wavelengths/bands of interest are defined\n",
    "bands_of_interest = ['green',\n",
    "                     'red', \n",
    "                     'nir',\n",
    "                     'swir1']\n",
    "\n",
    "#Sensors of interest are defined\n",
    "sensors = ['ls8']#,\"\n",
    "    #'ls7',\n",
    "    #'ls5' ] \n",
    "\n",
    "\n",
    "#Create bounding box around the location of the stream gauge\n",
    "lat_max = -19.79\n",
    "lat_min = -19.85\n",
    "lon_max = 145.34\n",
    "lon_min = 145.27\n",
    "\n",
    "#Create query\n",
    "query = {'time': (start_of_epoch, end_of_epoch)}\n",
    "query['x'] = (lon_min, lon_max)\n",
    "query['y'] = (lat_max, lat_min)\n",
    "query['crs'] = 'EPSG:4326'"
   ]
  },
  {
   "cell_type": "code",
   "execution_count": 2,
   "metadata": {
    "ExecuteTime": {
     "end_time": "2018-03-09T03:38:41.677226Z",
     "start_time": "2018-03-09T03:38:41.668939Z"
    }
   },
   "outputs": [],
   "source": [
    "#import csv\n",
    "import os\n",
    "import sys\n",
    "#import datetime"
   ]
  },
  {
   "cell_type": "code",
   "execution_count": 3,
   "metadata": {
    "ExecuteTime": {
     "end_time": "2018-03-09T03:38:45.049898Z",
     "start_time": "2018-03-09T03:38:41.680562Z"
    }
   },
   "outputs": [],
   "source": [
    "#get the DEA version of the plotting functions\n",
    "sys.path.append(os.path.abspath('/g/data/r78/rjd547/jupyter_notebooks/dea-notebooks/algorithms/'))\n",
    "import DEADataHandling"
   ]
  },
  {
   "cell_type": "code",
   "execution_count": 4,
   "metadata": {
    "ExecuteTime": {
     "end_time": "2018-03-09T03:38:45.083554Z",
     "start_time": "2018-03-09T03:38:45.054400Z"
    }
   },
   "outputs": [],
   "source": [
    "## DEADataHandling.py\n",
    "'''\n",
    "This file contains a set of python functions for handling data within DEA.\n",
    "Available functions:\n",
    "load_nbarx\n",
    "\n",
    "Last modified: March 2018\n",
    "Author: Claire Krause\n",
    "\n",
    "'''\n",
    "\n",
    "from datacube.helpers import ga_pq_fuser\n",
    "from datacube.storage import masking\n",
    "from datacube import Datacube\n",
    "dc = Datacube(app = 'test')"
   ]
  },
  {
   "cell_type": "code",
   "execution_count": 14,
   "metadata": {
    "ExecuteTime": {
     "end_time": "2018-03-09T03:40:54.937779Z",
     "start_time": "2018-03-09T03:40:54.802475Z"
    }
   },
   "outputs": [],
   "source": [
    "def load_nbarx(sensor, query, bands_of_interest, product = 'nbart'): \n",
    "    '''loads nbar or nbart data for a sensor, masks using pq, then filters \n",
    "    out terrain -999s\n",
    "    Last modified: March 2018\n",
    "    Author: Bex Dunn\n",
    "    Modified by: Claire Krause\n",
    "    \n",
    "    This function requires the following be loaded:\n",
    "    from datacube.helpers import ga_pq_fuser\n",
    "    from datacube.storage import masking\n",
    "    from datacube import Datacube\n",
    "    dc = Datacube(app = 'test')\n",
    "    \n",
    "    inputs\n",
    "    sensor - Options are 'ls5', 'ls7', 'ls8'\n",
    "    query - A dict containing the query bounds. Can include lat/lon, time etc\n",
    "    bands_of_interest - List of strings containing the bands to be read in. Options\n",
    "                       'red', 'green', 'blue', 'nir', 'swir1', 'swir2'\n",
    "\n",
    "    optional\n",
    "    product - 'nbar' or 'nbart'. Defaults to nbart unless otherwise specified\n",
    "\n",
    "    outputs\n",
    "    ds - Extracted and pq filtered dataset\n",
    "    crs - ds coordinate reference system\n",
    "    affine - ds affine\n",
    "    '''  \n",
    "    dataset = []\n",
    "    product_name = '{}_{}_albers'.format(sensor, product)\n",
    "    print('loading {}'.format(product_name))\n",
    "    ds = dc.load(product = product_name, measurements = bands_of_interest,\n",
    "                 group_by = 'solar_day', **query)\n",
    "    #grab crs defs from loaded ds if ds exists\n",
    "    if ds.variables:\n",
    "        crs = ds.crs\n",
    "        affine = ds.affine\n",
    "        print('loaded {}'.format(product_name))\n",
    "        mask_product = '{}_{}_albers'.format(sensor, 'pq')\n",
    "        sensor_pq = dc.load(product = mask_product, fuse_func = ga_pq_fuser,\n",
    "                            group_by = 'solar_day', **query)\n",
    "        if sensor_pq.variables:\n",
    "            print('making mask {}'.format(mask_product))\n",
    "            cloud_free = masking.make_mask(sensor_pq.pixelquality,\n",
    "                                           cloud_acca ='no_cloud',\n",
    "                                           cloud_shadow_acca = 'no_cloud_shadow',                           \n",
    "                                           cloud_shadow_fmask = 'no_cloud_shadow',\n",
    "                                           cloud_fmask = 'no_cloud',\n",
    "                                           blue_saturated = False,\n",
    "                                           green_saturated = False,\n",
    "                                           red_saturated = False,\n",
    "                                           nir_saturated = False,\n",
    "                                           swir1_saturated = False,\n",
    "                                           swir2_saturated = False,\n",
    "                                           contiguous = True)\n",
    "            ds = ds.where(cloud_free)\n",
    "            ds.attrs['crs'] = crs\n",
    "            ds.attrs['affine'] = affine\n",
    "            \n",
    "        if product=='nbart':\n",
    "            print('masked {} with {} and filtered terrain'.format(product_name,\n",
    "                                                                  mask_product))\n",
    "            # nbarT is correctly used to correct terrain by replacing -999.0 with nan\n",
    "            ds = ds.where(ds!=-999.0)\n",
    "        elif product=='nbar':\n",
    "            print('masked {} with {}'.format(product_name, mask_product))\n",
    "        else: \n",
    "            print('did not mask {} with {}'.format(product_name, mask_product))\n",
    "    else:\n",
    "        print ('did not load {}'.format(product_name)) \n",
    "\n",
    "    if len(ds.variables) > 0:\n",
    "        return ds, crs, affine\n",
    "    else:\n",
    "        return None"
   ]
  },
  {
   "cell_type": "code",
   "execution_count": null,
   "metadata": {
    "ExecuteTime": {
     "start_time": "2018-03-09T03:04:25.318Z"
    }
   },
   "outputs": [
    {
     "name": "stdout",
     "output_type": "stream",
     "text": [
      "loading ls8_nbar_albers\n"
     ]
    }
   ],
   "source": [
    "data, crs, affine = DEADataHandling.load_nbarx('ls8', query, bands_of_interest, product='nbar')"
   ]
  },
  {
   "cell_type": "code",
   "execution_count": 13,
   "metadata": {
    "ExecuteTime": {
     "end_time": "2018-03-09T03:40:24.138220Z",
     "start_time": "2018-03-09T03:40:24.127259Z"
    }
   },
   "outputs": [
    {
     "name": "stdout",
     "output_type": "stream",
     "text": [
      "masked {} with {} and filtered terrain\n"
     ]
    }
   ],
   "source": [
    "if product=='nbart':\n",
    "            print('masked {} with {} and filtered terrain')#.format(product_name,\n",
    "                                                  #                mask_product))\n",
    "elif product=='nbar':\n",
    "            print('masked {} with {}')#.format(product_name, mask_product))"
   ]
  },
  {
   "cell_type": "code",
   "execution_count": 12,
   "metadata": {
    "ExecuteTime": {
     "end_time": "2018-03-09T03:40:23.087186Z",
     "start_time": "2018-03-09T03:40:23.080737Z"
    }
   },
   "outputs": [],
   "source": [
    "product='nbart'"
   ]
  },
  {
   "cell_type": "code",
   "execution_count": 15,
   "metadata": {
    "ExecuteTime": {
     "end_time": "2018-03-09T03:41:28.685376Z",
     "start_time": "2018-03-09T03:41:26.722799Z"
    }
   },
   "outputs": [
    {
     "name": "stdout",
     "output_type": "stream",
     "text": [
      "loading ls8_nbar_albers\n",
      "loaded ls8_nbar_albers\n",
      "making mask ls8_pq_albers\n",
      "masked ls8_nbar_albers with ls8_pq_albers\n"
     ]
    }
   ],
   "source": [
    "data, crs, affine = DEADataHandling.load_nbarx('ls8', query, bands_of_interest, product='nbar')"
   ]
  },
  {
   "cell_type": "code",
   "execution_count": null,
   "metadata": {},
   "outputs": [],
   "source": []
  }
 ],
 "metadata": {
  "kernelspec": {
   "display_name": "Python 3",
   "language": "python",
   "name": "python3"
  },
  "language_info": {
   "codemirror_mode": {
    "name": "ipython",
    "version": 3
   },
   "file_extension": ".py",
   "mimetype": "text/x-python",
   "name": "python",
   "nbconvert_exporter": "python",
   "pygments_lexer": "ipython3",
   "version": "3.6.3"
  },
  "toc": {
   "nav_menu": {},
   "number_sections": true,
   "sideBar": true,
   "skip_h1_title": false,
   "toc_cell": true,
   "toc_position": {},
   "toc_section_display": "block",
   "toc_window_display": true
  }
 },
 "nbformat": 4,
 "nbformat_minor": 2
}
